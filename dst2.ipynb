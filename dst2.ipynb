{
 "cells": [
  {
   "cell_type": "code",
   "id": "initial_id",
   "metadata": {
    "collapsed": true,
    "ExecuteTime": {
     "end_time": "2025-02-17T15:45:02.007096Z",
     "start_time": "2025-02-17T15:45:00.824516Z"
    }
   },
   "source": [
    "import numpy as np\n",
    "import pandas as pd\n",
    "from sklearn.model_selection import train_test_split\n",
    "from sklearn.linear_model import LogisticRegression\n",
    "from sklearn.tree import DecisionTreeClassifier\n",
    "from sklearn.svm import SVC\n",
    "from sklearn.ensemble import RandomForestClassifier\n",
    "from sklearn.neighbors import KNeighborsClassifier\n",
    "from sklearn.preprocessing import StandardScaler, OneHotEncoder\n",
    "from sklearn.impute import SimpleImputer\n",
    "from sklearn.compose import ColumnTransformer\n",
    "from sklearn.metrics import roc_auc_score, roc_curve, confusion_matrix\n",
    "from sklearn.pipeline import Pipeline\n",
    "import matplotlib.pyplot as plt\n",
    "import ipaddress\n",
    "from sklearn.ensemble import AdaBoostClassifier, ExtraTreesClassifier\n",
    "from xgboost import XGBClassifier\n",
    "from lightgbm import LGBMClassifier\n"
   ],
   "outputs": [],
   "execution_count": 1
  },
  {
   "metadata": {
    "ExecuteTime": {
     "end_time": "2025-02-17T15:46:48.149403Z",
     "start_time": "2025-02-17T15:45:27.685801Z"
    }
   },
   "cell_type": "code",
   "source": "data = pd.read_csv('rba-dataset.csv')",
   "id": "4cccf9e5eacbd08e",
   "outputs": [],
   "execution_count": 3
  },
  {
   "metadata": {
    "ExecuteTime": {
     "end_time": "2025-02-17T15:49:01.836960Z",
     "start_time": "2025-02-17T15:47:42.273939Z"
    }
   },
   "cell_type": "code",
   "source": [
    "import pandas as pd\n",
    "\n",
    "# Specify the chunk size\n",
    "chunk_size = 1000000  # Adjust based on your memory limits\n",
    "\n",
    "# Initialize an empty list to store the data\n",
    "chunks = []\n",
    "\n",
    "# Read the CSV file in chunks\n",
    "for chunk in pd.read_csv('rba-dataset.csv', chunksize=chunk_size):\n",
    "    chunks.append(chunk)\n",
    "    print(\"SSs\")\n",
    "\n",
    "# Concatenate all chunks into a single DataFrame\n",
    "data = pd.concat(chunks, axis=0)"
   ],
   "id": "4f5d09ec5893a734",
   "outputs": [
    {
     "name": "stdout",
     "output_type": "stream",
     "text": [
      "SSs\n",
      "SSs\n",
      "SSs\n",
      "SSs\n",
      "SSs\n",
      "SSs\n",
      "SSs\n",
      "SSs\n",
      "SSs\n",
      "SSs\n",
      "SSs\n",
      "SSs\n",
      "SSs\n",
      "SSs\n",
      "SSs\n",
      "SSs\n",
      "SSs\n",
      "SSs\n",
      "SSs\n",
      "SSs\n",
      "SSs\n",
      "SSs\n",
      "SSs\n",
      "SSs\n",
      "SSs\n",
      "SSs\n",
      "SSs\n",
      "SSs\n",
      "SSs\n",
      "SSs\n",
      "SSs\n",
      "SSs\n"
     ]
    }
   ],
   "execution_count": 4
  },
  {
   "metadata": {
    "ExecuteTime": {
     "end_time": "2025-02-17T15:49:17.334384Z",
     "start_time": "2025-02-17T15:49:17.302012Z"
    }
   },
   "cell_type": "code",
   "source": "data.head()",
   "id": "e8e3866538f300e6",
   "outputs": [
    {
     "data": {
      "text/plain": [
       "   index          Login Timestamp              User ID  Round-Trip Time [ms]  \\\n",
       "0      0  2020-02-03 12:43:30.772 -4324475583306591935                   NaN   \n",
       "1      1  2020-02-03 12:43:43.549 -4324475583306591935                   NaN   \n",
       "2      2  2020-02-03 12:43:55.873 -3284137479262433373                   NaN   \n",
       "3      3  2020-02-03 12:43:56.180 -4324475583306591935                   NaN   \n",
       "4      4  2020-02-03 12:43:59.396 -4618854071942621186                   NaN   \n",
       "\n",
       "      IP Address Country    Region       City     ASN  \\\n",
       "0    10.0.65.171      NO         -          -   29695   \n",
       "1   194.87.207.6      AU         -          -   60117   \n",
       "2  81.167.144.58      NO  Vestland  Urangsvag   29695   \n",
       "3  170.39.78.152      US         -          -  393398   \n",
       "4      10.0.0.47      US  Virginia    Ashburn  398986   \n",
       "\n",
       "                                   User Agent String  \\\n",
       "0  Mozilla/5.0  (iPhone; CPU iPhone OS 13_4 like ...   \n",
       "1  Mozilla/5.0  (Linux; Android 4.1; Galaxy Nexus...   \n",
       "2  Mozilla/5.0  (iPad; CPU OS 7_1 like Mac OS X) ...   \n",
       "3  Mozilla/5.0  (Linux; Android 4.1; Galaxy Nexus...   \n",
       "4  Mozilla/5.0  (Linux; U; Android 2.2) Build/NMA...   \n",
       "\n",
       "          Browser Name and Version OS Name and Version Device Type  \\\n",
       "0              Firefox 20.0.0.1618            iOS 13.4      mobile   \n",
       "1          Chrome Mobile 46.0.2490         Android 4.1      mobile   \n",
       "2               Android 2.3.3.2672             iOS 7.1      mobile   \n",
       "3  Chrome Mobile WebView 85.0.4183         Android 4.1      mobile   \n",
       "4  Chrome Mobile WebView 85.0.4183         Android 2.2      mobile   \n",
       "\n",
       "   Login Successful  Is Attack IP  Is Account Takeover  \n",
       "0             False         False                False  \n",
       "1             False         False                False  \n",
       "2              True         False                False  \n",
       "3             False         False                False  \n",
       "4             False          True                False  "
      ],
      "text/html": [
       "<div>\n",
       "<style scoped>\n",
       "    .dataframe tbody tr th:only-of-type {\n",
       "        vertical-align: middle;\n",
       "    }\n",
       "\n",
       "    .dataframe tbody tr th {\n",
       "        vertical-align: top;\n",
       "    }\n",
       "\n",
       "    .dataframe thead th {\n",
       "        text-align: right;\n",
       "    }\n",
       "</style>\n",
       "<table border=\"1\" class=\"dataframe\">\n",
       "  <thead>\n",
       "    <tr style=\"text-align: right;\">\n",
       "      <th></th>\n",
       "      <th>index</th>\n",
       "      <th>Login Timestamp</th>\n",
       "      <th>User ID</th>\n",
       "      <th>Round-Trip Time [ms]</th>\n",
       "      <th>IP Address</th>\n",
       "      <th>Country</th>\n",
       "      <th>Region</th>\n",
       "      <th>City</th>\n",
       "      <th>ASN</th>\n",
       "      <th>User Agent String</th>\n",
       "      <th>Browser Name and Version</th>\n",
       "      <th>OS Name and Version</th>\n",
       "      <th>Device Type</th>\n",
       "      <th>Login Successful</th>\n",
       "      <th>Is Attack IP</th>\n",
       "      <th>Is Account Takeover</th>\n",
       "    </tr>\n",
       "  </thead>\n",
       "  <tbody>\n",
       "    <tr>\n",
       "      <th>0</th>\n",
       "      <td>0</td>\n",
       "      <td>2020-02-03 12:43:30.772</td>\n",
       "      <td>-4324475583306591935</td>\n",
       "      <td>NaN</td>\n",
       "      <td>10.0.65.171</td>\n",
       "      <td>NO</td>\n",
       "      <td>-</td>\n",
       "      <td>-</td>\n",
       "      <td>29695</td>\n",
       "      <td>Mozilla/5.0  (iPhone; CPU iPhone OS 13_4 like ...</td>\n",
       "      <td>Firefox 20.0.0.1618</td>\n",
       "      <td>iOS 13.4</td>\n",
       "      <td>mobile</td>\n",
       "      <td>False</td>\n",
       "      <td>False</td>\n",
       "      <td>False</td>\n",
       "    </tr>\n",
       "    <tr>\n",
       "      <th>1</th>\n",
       "      <td>1</td>\n",
       "      <td>2020-02-03 12:43:43.549</td>\n",
       "      <td>-4324475583306591935</td>\n",
       "      <td>NaN</td>\n",
       "      <td>194.87.207.6</td>\n",
       "      <td>AU</td>\n",
       "      <td>-</td>\n",
       "      <td>-</td>\n",
       "      <td>60117</td>\n",
       "      <td>Mozilla/5.0  (Linux; Android 4.1; Galaxy Nexus...</td>\n",
       "      <td>Chrome Mobile 46.0.2490</td>\n",
       "      <td>Android 4.1</td>\n",
       "      <td>mobile</td>\n",
       "      <td>False</td>\n",
       "      <td>False</td>\n",
       "      <td>False</td>\n",
       "    </tr>\n",
       "    <tr>\n",
       "      <th>2</th>\n",
       "      <td>2</td>\n",
       "      <td>2020-02-03 12:43:55.873</td>\n",
       "      <td>-3284137479262433373</td>\n",
       "      <td>NaN</td>\n",
       "      <td>81.167.144.58</td>\n",
       "      <td>NO</td>\n",
       "      <td>Vestland</td>\n",
       "      <td>Urangsvag</td>\n",
       "      <td>29695</td>\n",
       "      <td>Mozilla/5.0  (iPad; CPU OS 7_1 like Mac OS X) ...</td>\n",
       "      <td>Android 2.3.3.2672</td>\n",
       "      <td>iOS 7.1</td>\n",
       "      <td>mobile</td>\n",
       "      <td>True</td>\n",
       "      <td>False</td>\n",
       "      <td>False</td>\n",
       "    </tr>\n",
       "    <tr>\n",
       "      <th>3</th>\n",
       "      <td>3</td>\n",
       "      <td>2020-02-03 12:43:56.180</td>\n",
       "      <td>-4324475583306591935</td>\n",
       "      <td>NaN</td>\n",
       "      <td>170.39.78.152</td>\n",
       "      <td>US</td>\n",
       "      <td>-</td>\n",
       "      <td>-</td>\n",
       "      <td>393398</td>\n",
       "      <td>Mozilla/5.0  (Linux; Android 4.1; Galaxy Nexus...</td>\n",
       "      <td>Chrome Mobile WebView 85.0.4183</td>\n",
       "      <td>Android 4.1</td>\n",
       "      <td>mobile</td>\n",
       "      <td>False</td>\n",
       "      <td>False</td>\n",
       "      <td>False</td>\n",
       "    </tr>\n",
       "    <tr>\n",
       "      <th>4</th>\n",
       "      <td>4</td>\n",
       "      <td>2020-02-03 12:43:59.396</td>\n",
       "      <td>-4618854071942621186</td>\n",
       "      <td>NaN</td>\n",
       "      <td>10.0.0.47</td>\n",
       "      <td>US</td>\n",
       "      <td>Virginia</td>\n",
       "      <td>Ashburn</td>\n",
       "      <td>398986</td>\n",
       "      <td>Mozilla/5.0  (Linux; U; Android 2.2) Build/NMA...</td>\n",
       "      <td>Chrome Mobile WebView 85.0.4183</td>\n",
       "      <td>Android 2.2</td>\n",
       "      <td>mobile</td>\n",
       "      <td>False</td>\n",
       "      <td>True</td>\n",
       "      <td>False</td>\n",
       "    </tr>\n",
       "  </tbody>\n",
       "</table>\n",
       "</div>"
      ]
     },
     "execution_count": 5,
     "metadata": {},
     "output_type": "execute_result"
    }
   ],
   "execution_count": 5
  },
  {
   "metadata": {
    "ExecuteTime": {
     "end_time": "2025-02-17T15:49:27.362213Z",
     "start_time": "2025-02-17T15:49:27.359508Z"
    }
   },
   "cell_type": "code",
   "source": "len(data)\n",
   "id": "519330c4e68ded25",
   "outputs": [
    {
     "data": {
      "text/plain": [
       "31269264"
      ]
     },
     "execution_count": 6,
     "metadata": {},
     "output_type": "execute_result"
    }
   ],
   "execution_count": 6
  },
  {
   "metadata": {
    "ExecuteTime": {
     "end_time": "2025-02-17T15:49:37.119061Z",
     "start_time": "2025-02-17T15:49:37.112415Z"
    }
   },
   "cell_type": "code",
   "source": "data.dtypes",
   "id": "b11700c6de2876af",
   "outputs": [
    {
     "data": {
      "text/plain": [
       "index                         int64\n",
       "Login Timestamp              object\n",
       "User ID                       int64\n",
       "Round-Trip Time [ms]        float64\n",
       "IP Address                   object\n",
       "Country                      object\n",
       "Region                       object\n",
       "City                         object\n",
       "ASN                           int64\n",
       "User Agent String            object\n",
       "Browser Name and Version     object\n",
       "OS Name and Version          object\n",
       "Device Type                  object\n",
       "Login Successful               bool\n",
       "Is Attack IP                   bool\n",
       "Is Account Takeover            bool\n",
       "dtype: object"
      ]
     },
     "execution_count": 7,
     "metadata": {},
     "output_type": "execute_result"
    }
   ],
   "execution_count": 7
  },
  {
   "metadata": {
    "ExecuteTime": {
     "end_time": "2025-02-17T15:50:13.093136Z",
     "start_time": "2025-02-17T15:50:13.067128Z"
    }
   },
   "cell_type": "code",
   "source": "data.info()",
   "id": "800fb8e599960099",
   "outputs": [
    {
     "name": "stdout",
     "output_type": "stream",
     "text": [
      "<class 'pandas.core.frame.DataFrame'>\n",
      "RangeIndex: 31269264 entries, 0 to 31269263\n",
      "Data columns (total 16 columns):\n",
      " #   Column                    Dtype  \n",
      "---  ------                    -----  \n",
      " 0   index                     int64  \n",
      " 1   Login Timestamp           object \n",
      " 2   User ID                   int64  \n",
      " 3   Round-Trip Time [ms]      float64\n",
      " 4   IP Address                object \n",
      " 5   Country                   object \n",
      " 6   Region                    object \n",
      " 7   City                      object \n",
      " 8   ASN                       int64  \n",
      " 9   User Agent String         object \n",
      " 10  Browser Name and Version  object \n",
      " 11  OS Name and Version       object \n",
      " 12  Device Type               object \n",
      " 13  Login Successful          bool   \n",
      " 14  Is Attack IP              bool   \n",
      " 15  Is Account Takeover       bool   \n",
      "dtypes: bool(3), float64(1), int64(3), object(9)\n",
      "memory usage: 3.1+ GB\n"
     ]
    }
   ],
   "execution_count": 8
  },
  {
   "metadata": {
    "ExecuteTime": {
     "end_time": "2025-02-17T15:50:32.066717Z",
     "start_time": "2025-02-17T15:50:32.050627Z"
    }
   },
   "cell_type": "code",
   "source": "data.describe",
   "id": "1952b4489bf915ef",
   "outputs": [
    {
     "data": {
      "text/plain": [
       "<bound method NDFrame.describe of              index          Login Timestamp              User ID  \\\n",
       "0                0  2020-02-03 12:43:30.772 -4324475583306591935   \n",
       "1                1  2020-02-03 12:43:43.549 -4324475583306591935   \n",
       "2                2  2020-02-03 12:43:55.873 -3284137479262433373   \n",
       "3                3  2020-02-03 12:43:56.180 -4324475583306591935   \n",
       "4                4  2020-02-03 12:43:59.396 -4618854071942621186   \n",
       "...            ...                      ...                  ...   \n",
       "31269259  31269259  2021-02-28 23:59:47.766 -4324475583306591935   \n",
       "31269260  31269260  2021-02-28 23:59:49.956 -4324475583306591935   \n",
       "31269261  31269261  2021-02-28 23:59:54.233 -4324475583306591935   \n",
       "31269262  31269262  2021-02-28 23:59:56.343 -4324475583306591935   \n",
       "31269263  31269263  2021-02-28 23:59:58.756 -3863191272176615105   \n",
       "\n",
       "          Round-Trip Time [ms]     IP Address Country          Region  \\\n",
       "0                          NaN    10.0.65.171      NO               -   \n",
       "1                          NaN   194.87.207.6      AU               -   \n",
       "2                          NaN  81.167.144.58      NO        Vestland   \n",
       "3                          NaN  170.39.78.152      US               -   \n",
       "4                          NaN      10.0.0.47      US        Virginia   \n",
       "...                        ...            ...     ...             ...   \n",
       "31269259                   NaN  170.39.78.106      US               -   \n",
       "31269260                   NaN  170.39.79.123      US               -   \n",
       "31269261                   NaN  170.39.78.106      US               -   \n",
       "31269262                   NaN   10.3.205.188      RU  St.-Petersburg   \n",
       "31269263                   NaN  156.52.189.92      NO           Viken   \n",
       "\n",
       "                   City     ASN  \\\n",
       "0                     -   29695   \n",
       "1                     -   60117   \n",
       "2             Urangsvag   29695   \n",
       "3                     -  393398   \n",
       "4               Ashburn  398986   \n",
       "...                 ...     ...   \n",
       "31269259              -  393398   \n",
       "31269260              -  393398   \n",
       "31269261              -  393398   \n",
       "31269262  St Petersburg   15599   \n",
       "31269263    Fredrikstad   29695   \n",
       "\n",
       "                                          User Agent String  \\\n",
       "0         Mozilla/5.0  (iPhone; CPU iPhone OS 13_4 like ...   \n",
       "1         Mozilla/5.0  (Linux; Android 4.1; Galaxy Nexus...   \n",
       "2         Mozilla/5.0  (iPad; CPU OS 7_1 like Mac OS X) ...   \n",
       "3         Mozilla/5.0  (Linux; Android 4.1; Galaxy Nexus...   \n",
       "4         Mozilla/5.0  (Linux; U; Android 2.2) Build/NMA...   \n",
       "...                                                     ...   \n",
       "31269259       AwarioSmartBot/1.0  (en-us) variation/294820   \n",
       "31269260  Mozilla/5.0  (iPhone; CPU iPhone OS 11_2_6 lik...   \n",
       "31269261       AwarioSmartBot/1.0  (en-us) variation/294820   \n",
       "31269262  ZipppBot/0.11 (ZipppBot; https://github.com/da...   \n",
       "31269263  Mozilla/5.0 (Macintosh; Intel Mac OS X 10_14_6...   \n",
       "\n",
       "                 Browser Name and Version OS Name and Version Device Type  \\\n",
       "0                     Firefox 20.0.0.1618            iOS 13.4      mobile   \n",
       "1                 Chrome Mobile 46.0.2490         Android 4.1      mobile   \n",
       "2                      Android 2.3.3.2672             iOS 7.1      mobile   \n",
       "3         Chrome Mobile WebView 85.0.4183         Android 4.1      mobile   \n",
       "4         Chrome Mobile WebView 85.0.4183         Android 2.2      mobile   \n",
       "...                                   ...                 ...         ...   \n",
       "31269259               AwarioSmartBot 1.0              Other      unknown   \n",
       "31269260  Chrome Mobile WebView 80.0.3987          iOS 11.2.6      mobile   \n",
       "31269261               AwarioSmartBot 1.0              Other      unknown   \n",
       "31269262                    ZipppBot 0.11              Other          bot   \n",
       "31269263           Chrome 69.0.3497.17.24    Mac OS X 10.14.6     desktop   \n",
       "\n",
       "          Login Successful  Is Attack IP  Is Account Takeover  \n",
       "0                    False         False                False  \n",
       "1                    False         False                False  \n",
       "2                     True         False                False  \n",
       "3                    False         False                False  \n",
       "4                    False          True                False  \n",
       "...                    ...           ...                  ...  \n",
       "31269259             False         False                False  \n",
       "31269260             False         False                False  \n",
       "31269261             False         False                False  \n",
       "31269262             False         False                False  \n",
       "31269263              True         False                False  \n",
       "\n",
       "[31269264 rows x 16 columns]>"
      ]
     },
     "execution_count": 9,
     "metadata": {},
     "output_type": "execute_result"
    }
   ],
   "execution_count": 9
  },
  {
   "metadata": {
    "ExecuteTime": {
     "end_time": "2025-02-17T15:51:00.285947Z",
     "start_time": "2025-02-17T15:50:51.970196Z"
    }
   },
   "cell_type": "code",
   "source": "data.isna().sum()",
   "id": "fecd1e85e4f539f8",
   "outputs": [
    {
     "data": {
      "text/plain": [
       "index                              0\n",
       "Login Timestamp                    0\n",
       "User ID                            0\n",
       "Round-Trip Time [ms]        29993329\n",
       "IP Address                         0\n",
       "Country                            0\n",
       "Region                         47409\n",
       "City                            8590\n",
       "ASN                                0\n",
       "User Agent String                  0\n",
       "Browser Name and Version           0\n",
       "OS Name and Version                0\n",
       "Device Type                     1526\n",
       "Login Successful                   0\n",
       "Is Attack IP                       0\n",
       "Is Account Takeover                0\n",
       "dtype: int64"
      ]
     },
     "execution_count": 10,
     "metadata": {},
     "output_type": "execute_result"
    }
   ],
   "execution_count": 10
  },
  {
   "metadata": {
    "ExecuteTime": {
     "end_time": "2025-02-17T15:55:24.842740Z",
     "start_time": "2025-02-17T15:55:19.566491Z"
    }
   },
   "cell_type": "code",
   "source": "data['Login Hour'] = pd.to_datetime(data['Login Timestamp']).dt.hour",
   "id": "c576ac1fd55f468c",
   "outputs": [],
   "execution_count": 11
  },
  {
   "metadata": {
    "ExecuteTime": {
     "end_time": "2025-02-17T15:55:39.509040Z",
     "start_time": "2025-02-17T15:55:39.500539Z"
    }
   },
   "cell_type": "code",
   "source": "data.head()",
   "id": "6f5995b858b50034",
   "outputs": [
    {
     "data": {
      "text/plain": [
       "   index          Login Timestamp              User ID  Round-Trip Time [ms]  \\\n",
       "0      0  2020-02-03 12:43:30.772 -4324475583306591935                   NaN   \n",
       "1      1  2020-02-03 12:43:43.549 -4324475583306591935                   NaN   \n",
       "2      2  2020-02-03 12:43:55.873 -3284137479262433373                   NaN   \n",
       "3      3  2020-02-03 12:43:56.180 -4324475583306591935                   NaN   \n",
       "4      4  2020-02-03 12:43:59.396 -4618854071942621186                   NaN   \n",
       "\n",
       "      IP Address Country    Region       City     ASN  \\\n",
       "0    10.0.65.171      NO         -          -   29695   \n",
       "1   194.87.207.6      AU         -          -   60117   \n",
       "2  81.167.144.58      NO  Vestland  Urangsvag   29695   \n",
       "3  170.39.78.152      US         -          -  393398   \n",
       "4      10.0.0.47      US  Virginia    Ashburn  398986   \n",
       "\n",
       "                                   User Agent String  \\\n",
       "0  Mozilla/5.0  (iPhone; CPU iPhone OS 13_4 like ...   \n",
       "1  Mozilla/5.0  (Linux; Android 4.1; Galaxy Nexus...   \n",
       "2  Mozilla/5.0  (iPad; CPU OS 7_1 like Mac OS X) ...   \n",
       "3  Mozilla/5.0  (Linux; Android 4.1; Galaxy Nexus...   \n",
       "4  Mozilla/5.0  (Linux; U; Android 2.2) Build/NMA...   \n",
       "\n",
       "          Browser Name and Version OS Name and Version Device Type  \\\n",
       "0              Firefox 20.0.0.1618            iOS 13.4      mobile   \n",
       "1          Chrome Mobile 46.0.2490         Android 4.1      mobile   \n",
       "2               Android 2.3.3.2672             iOS 7.1      mobile   \n",
       "3  Chrome Mobile WebView 85.0.4183         Android 4.1      mobile   \n",
       "4  Chrome Mobile WebView 85.0.4183         Android 2.2      mobile   \n",
       "\n",
       "   Login Successful  Is Attack IP  Is Account Takeover  Login Hour  \n",
       "0             False         False                False          12  \n",
       "1             False         False                False          12  \n",
       "2              True         False                False          12  \n",
       "3             False         False                False          12  \n",
       "4             False          True                False          12  "
      ],
      "text/html": [
       "<div>\n",
       "<style scoped>\n",
       "    .dataframe tbody tr th:only-of-type {\n",
       "        vertical-align: middle;\n",
       "    }\n",
       "\n",
       "    .dataframe tbody tr th {\n",
       "        vertical-align: top;\n",
       "    }\n",
       "\n",
       "    .dataframe thead th {\n",
       "        text-align: right;\n",
       "    }\n",
       "</style>\n",
       "<table border=\"1\" class=\"dataframe\">\n",
       "  <thead>\n",
       "    <tr style=\"text-align: right;\">\n",
       "      <th></th>\n",
       "      <th>index</th>\n",
       "      <th>Login Timestamp</th>\n",
       "      <th>User ID</th>\n",
       "      <th>Round-Trip Time [ms]</th>\n",
       "      <th>IP Address</th>\n",
       "      <th>Country</th>\n",
       "      <th>Region</th>\n",
       "      <th>City</th>\n",
       "      <th>ASN</th>\n",
       "      <th>User Agent String</th>\n",
       "      <th>Browser Name and Version</th>\n",
       "      <th>OS Name and Version</th>\n",
       "      <th>Device Type</th>\n",
       "      <th>Login Successful</th>\n",
       "      <th>Is Attack IP</th>\n",
       "      <th>Is Account Takeover</th>\n",
       "      <th>Login Hour</th>\n",
       "    </tr>\n",
       "  </thead>\n",
       "  <tbody>\n",
       "    <tr>\n",
       "      <th>0</th>\n",
       "      <td>0</td>\n",
       "      <td>2020-02-03 12:43:30.772</td>\n",
       "      <td>-4324475583306591935</td>\n",
       "      <td>NaN</td>\n",
       "      <td>10.0.65.171</td>\n",
       "      <td>NO</td>\n",
       "      <td>-</td>\n",
       "      <td>-</td>\n",
       "      <td>29695</td>\n",
       "      <td>Mozilla/5.0  (iPhone; CPU iPhone OS 13_4 like ...</td>\n",
       "      <td>Firefox 20.0.0.1618</td>\n",
       "      <td>iOS 13.4</td>\n",
       "      <td>mobile</td>\n",
       "      <td>False</td>\n",
       "      <td>False</td>\n",
       "      <td>False</td>\n",
       "      <td>12</td>\n",
       "    </tr>\n",
       "    <tr>\n",
       "      <th>1</th>\n",
       "      <td>1</td>\n",
       "      <td>2020-02-03 12:43:43.549</td>\n",
       "      <td>-4324475583306591935</td>\n",
       "      <td>NaN</td>\n",
       "      <td>194.87.207.6</td>\n",
       "      <td>AU</td>\n",
       "      <td>-</td>\n",
       "      <td>-</td>\n",
       "      <td>60117</td>\n",
       "      <td>Mozilla/5.0  (Linux; Android 4.1; Galaxy Nexus...</td>\n",
       "      <td>Chrome Mobile 46.0.2490</td>\n",
       "      <td>Android 4.1</td>\n",
       "      <td>mobile</td>\n",
       "      <td>False</td>\n",
       "      <td>False</td>\n",
       "      <td>False</td>\n",
       "      <td>12</td>\n",
       "    </tr>\n",
       "    <tr>\n",
       "      <th>2</th>\n",
       "      <td>2</td>\n",
       "      <td>2020-02-03 12:43:55.873</td>\n",
       "      <td>-3284137479262433373</td>\n",
       "      <td>NaN</td>\n",
       "      <td>81.167.144.58</td>\n",
       "      <td>NO</td>\n",
       "      <td>Vestland</td>\n",
       "      <td>Urangsvag</td>\n",
       "      <td>29695</td>\n",
       "      <td>Mozilla/5.0  (iPad; CPU OS 7_1 like Mac OS X) ...</td>\n",
       "      <td>Android 2.3.3.2672</td>\n",
       "      <td>iOS 7.1</td>\n",
       "      <td>mobile</td>\n",
       "      <td>True</td>\n",
       "      <td>False</td>\n",
       "      <td>False</td>\n",
       "      <td>12</td>\n",
       "    </tr>\n",
       "    <tr>\n",
       "      <th>3</th>\n",
       "      <td>3</td>\n",
       "      <td>2020-02-03 12:43:56.180</td>\n",
       "      <td>-4324475583306591935</td>\n",
       "      <td>NaN</td>\n",
       "      <td>170.39.78.152</td>\n",
       "      <td>US</td>\n",
       "      <td>-</td>\n",
       "      <td>-</td>\n",
       "      <td>393398</td>\n",
       "      <td>Mozilla/5.0  (Linux; Android 4.1; Galaxy Nexus...</td>\n",
       "      <td>Chrome Mobile WebView 85.0.4183</td>\n",
       "      <td>Android 4.1</td>\n",
       "      <td>mobile</td>\n",
       "      <td>False</td>\n",
       "      <td>False</td>\n",
       "      <td>False</td>\n",
       "      <td>12</td>\n",
       "    </tr>\n",
       "    <tr>\n",
       "      <th>4</th>\n",
       "      <td>4</td>\n",
       "      <td>2020-02-03 12:43:59.396</td>\n",
       "      <td>-4618854071942621186</td>\n",
       "      <td>NaN</td>\n",
       "      <td>10.0.0.47</td>\n",
       "      <td>US</td>\n",
       "      <td>Virginia</td>\n",
       "      <td>Ashburn</td>\n",
       "      <td>398986</td>\n",
       "      <td>Mozilla/5.0  (Linux; U; Android 2.2) Build/NMA...</td>\n",
       "      <td>Chrome Mobile WebView 85.0.4183</td>\n",
       "      <td>Android 2.2</td>\n",
       "      <td>mobile</td>\n",
       "      <td>False</td>\n",
       "      <td>True</td>\n",
       "      <td>False</td>\n",
       "      <td>12</td>\n",
       "    </tr>\n",
       "  </tbody>\n",
       "</table>\n",
       "</div>"
      ]
     },
     "execution_count": 12,
     "metadata": {},
     "output_type": "execute_result"
    }
   ],
   "execution_count": 12
  },
  {
   "metadata": {
    "ExecuteTime": {
     "end_time": "2025-02-17T15:55:55.987120Z",
     "start_time": "2025-02-17T15:55:55.931586Z"
    }
   },
   "cell_type": "code",
   "source": [
    "data['Is Account Takeover'] = data['Is Account Takeover'].astype(np.uint8)\n",
    "data['Is Attack IP'] = data['Is Attack IP'].astype(np.uint8)\n",
    "data['Login Successful'] = data['Login Successful'].astype(np.uint8)"
   ],
   "id": "145f7f2a503112b7",
   "outputs": [],
   "execution_count": 13
  },
  {
   "metadata": {
    "ExecuteTime": {
     "end_time": "2025-02-17T15:56:09.350403Z",
     "start_time": "2025-02-17T15:56:05.743634Z"
    }
   },
   "cell_type": "code",
   "source": "data = data.drop(columns=[\"Round-Trip Time [ms]\", 'Region', 'City', 'Login Timestamp', 'index'])",
   "id": "706df456158118f2",
   "outputs": [],
   "execution_count": 14
  },
  {
   "metadata": {
    "ExecuteTime": {
     "end_time": "2025-02-17T15:57:00.160398Z",
     "start_time": "2025-02-17T15:57:00.146189Z"
    }
   },
   "cell_type": "code",
   "source": "data.head()",
   "id": "23aa364b51af97c5",
   "outputs": [
    {
     "data": {
      "text/plain": [
       "               User ID     IP Address Country     ASN  \\\n",
       "0 -4324475583306591935    10.0.65.171      NO   29695   \n",
       "1 -4324475583306591935   194.87.207.6      AU   60117   \n",
       "2 -3284137479262433373  81.167.144.58      NO   29695   \n",
       "3 -4324475583306591935  170.39.78.152      US  393398   \n",
       "4 -4618854071942621186      10.0.0.47      US  398986   \n",
       "\n",
       "                                   User Agent String  \\\n",
       "0  Mozilla/5.0  (iPhone; CPU iPhone OS 13_4 like ...   \n",
       "1  Mozilla/5.0  (Linux; Android 4.1; Galaxy Nexus...   \n",
       "2  Mozilla/5.0  (iPad; CPU OS 7_1 like Mac OS X) ...   \n",
       "3  Mozilla/5.0  (Linux; Android 4.1; Galaxy Nexus...   \n",
       "4  Mozilla/5.0  (Linux; U; Android 2.2) Build/NMA...   \n",
       "\n",
       "          Browser Name and Version OS Name and Version Device Type  \\\n",
       "0              Firefox 20.0.0.1618            iOS 13.4      mobile   \n",
       "1          Chrome Mobile 46.0.2490         Android 4.1      mobile   \n",
       "2               Android 2.3.3.2672             iOS 7.1      mobile   \n",
       "3  Chrome Mobile WebView 85.0.4183         Android 4.1      mobile   \n",
       "4  Chrome Mobile WebView 85.0.4183         Android 2.2      mobile   \n",
       "\n",
       "   Login Successful  Is Attack IP  Is Account Takeover  Login Hour  \n",
       "0                 0             0                    0          12  \n",
       "1                 0             0                    0          12  \n",
       "2                 1             0                    0          12  \n",
       "3                 0             0                    0          12  \n",
       "4                 0             1                    0          12  "
      ],
      "text/html": [
       "<div>\n",
       "<style scoped>\n",
       "    .dataframe tbody tr th:only-of-type {\n",
       "        vertical-align: middle;\n",
       "    }\n",
       "\n",
       "    .dataframe tbody tr th {\n",
       "        vertical-align: top;\n",
       "    }\n",
       "\n",
       "    .dataframe thead th {\n",
       "        text-align: right;\n",
       "    }\n",
       "</style>\n",
       "<table border=\"1\" class=\"dataframe\">\n",
       "  <thead>\n",
       "    <tr style=\"text-align: right;\">\n",
       "      <th></th>\n",
       "      <th>User ID</th>\n",
       "      <th>IP Address</th>\n",
       "      <th>Country</th>\n",
       "      <th>ASN</th>\n",
       "      <th>User Agent String</th>\n",
       "      <th>Browser Name and Version</th>\n",
       "      <th>OS Name and Version</th>\n",
       "      <th>Device Type</th>\n",
       "      <th>Login Successful</th>\n",
       "      <th>Is Attack IP</th>\n",
       "      <th>Is Account Takeover</th>\n",
       "      <th>Login Hour</th>\n",
       "    </tr>\n",
       "  </thead>\n",
       "  <tbody>\n",
       "    <tr>\n",
       "      <th>0</th>\n",
       "      <td>-4324475583306591935</td>\n",
       "      <td>10.0.65.171</td>\n",
       "      <td>NO</td>\n",
       "      <td>29695</td>\n",
       "      <td>Mozilla/5.0  (iPhone; CPU iPhone OS 13_4 like ...</td>\n",
       "      <td>Firefox 20.0.0.1618</td>\n",
       "      <td>iOS 13.4</td>\n",
       "      <td>mobile</td>\n",
       "      <td>0</td>\n",
       "      <td>0</td>\n",
       "      <td>0</td>\n",
       "      <td>12</td>\n",
       "    </tr>\n",
       "    <tr>\n",
       "      <th>1</th>\n",
       "      <td>-4324475583306591935</td>\n",
       "      <td>194.87.207.6</td>\n",
       "      <td>AU</td>\n",
       "      <td>60117</td>\n",
       "      <td>Mozilla/5.0  (Linux; Android 4.1; Galaxy Nexus...</td>\n",
       "      <td>Chrome Mobile 46.0.2490</td>\n",
       "      <td>Android 4.1</td>\n",
       "      <td>mobile</td>\n",
       "      <td>0</td>\n",
       "      <td>0</td>\n",
       "      <td>0</td>\n",
       "      <td>12</td>\n",
       "    </tr>\n",
       "    <tr>\n",
       "      <th>2</th>\n",
       "      <td>-3284137479262433373</td>\n",
       "      <td>81.167.144.58</td>\n",
       "      <td>NO</td>\n",
       "      <td>29695</td>\n",
       "      <td>Mozilla/5.0  (iPad; CPU OS 7_1 like Mac OS X) ...</td>\n",
       "      <td>Android 2.3.3.2672</td>\n",
       "      <td>iOS 7.1</td>\n",
       "      <td>mobile</td>\n",
       "      <td>1</td>\n",
       "      <td>0</td>\n",
       "      <td>0</td>\n",
       "      <td>12</td>\n",
       "    </tr>\n",
       "    <tr>\n",
       "      <th>3</th>\n",
       "      <td>-4324475583306591935</td>\n",
       "      <td>170.39.78.152</td>\n",
       "      <td>US</td>\n",
       "      <td>393398</td>\n",
       "      <td>Mozilla/5.0  (Linux; Android 4.1; Galaxy Nexus...</td>\n",
       "      <td>Chrome Mobile WebView 85.0.4183</td>\n",
       "      <td>Android 4.1</td>\n",
       "      <td>mobile</td>\n",
       "      <td>0</td>\n",
       "      <td>0</td>\n",
       "      <td>0</td>\n",
       "      <td>12</td>\n",
       "    </tr>\n",
       "    <tr>\n",
       "      <th>4</th>\n",
       "      <td>-4618854071942621186</td>\n",
       "      <td>10.0.0.47</td>\n",
       "      <td>US</td>\n",
       "      <td>398986</td>\n",
       "      <td>Mozilla/5.0  (Linux; U; Android 2.2) Build/NMA...</td>\n",
       "      <td>Chrome Mobile WebView 85.0.4183</td>\n",
       "      <td>Android 2.2</td>\n",
       "      <td>mobile</td>\n",
       "      <td>0</td>\n",
       "      <td>1</td>\n",
       "      <td>0</td>\n",
       "      <td>12</td>\n",
       "    </tr>\n",
       "  </tbody>\n",
       "</table>\n",
       "</div>"
      ]
     },
     "execution_count": 15,
     "metadata": {},
     "output_type": "execute_result"
    }
   ],
   "execution_count": 15
  },
  {
   "metadata": {
    "ExecuteTime": {
     "end_time": "2025-02-17T15:57:26.804400Z",
     "start_time": "2025-02-17T15:57:17.066971Z"
    }
   },
   "cell_type": "code",
   "source": [
    "data['User Agent String'], _ = pd.factorize(data['User Agent String'])\n",
    "data['Browser Name and Version'], _ = pd.factorize(data['Browser Name and Version'])\n",
    "data['OS Name and Version'], _ = pd.factorize(data['OS Name and Version'])"
   ],
   "id": "4c5e6b0f2a248c66",
   "outputs": [],
   "execution_count": 16
  },
  {
   "metadata": {
    "ExecuteTime": {
     "end_time": "2025-02-17T15:58:39.721105Z",
     "start_time": "2025-02-17T15:57:54.240940Z"
    }
   },
   "cell_type": "code",
   "source": [
    "def ip_to_int(ip):\n",
    "    return int(ipaddress.ip_address(ip))\n",
    "\n",
    "data['IP Address'] = data['IP Address'].apply(ip_to_int)"
   ],
   "id": "21ccc68cf2608775",
   "outputs": [],
   "execution_count": 17
  },
  {
   "metadata": {
    "ExecuteTime": {
     "end_time": "2025-02-17T15:58:55.398073Z",
     "start_time": "2025-02-17T15:58:55.389856Z"
    }
   },
   "cell_type": "code",
   "source": "data.head(20)",
   "id": "bd06720070f97e06",
   "outputs": [
    {
     "data": {
      "text/plain": [
       "                User ID  IP Address Country     ASN  User Agent String  \\\n",
       "0  -4324475583306591935   167788971      NO   29695                  0   \n",
       "1  -4324475583306591935  3260534534      AU   60117                  1   \n",
       "2  -3284137479262433373  1369935930      NO   29695                  2   \n",
       "3  -4324475583306591935  2854702744      US  393398                  3   \n",
       "4  -4618854071942621186   167772207      US  398986                  4   \n",
       "5  -4324475583306591935  3521936254      US  393398                  5   \n",
       "6   7246533443898239661  1355474134      NO   15659                  6   \n",
       "7  -3243978724802435038  2854702769      US  393398                  7   \n",
       "8   8076000552587369902   167787988      NO   29695                  8   \n",
       "9  -3065936140549856249  1558015394      NO   29695                  9   \n",
       "10  5932501938287412564  1412447623      NO   15659                 10   \n",
       "11 -9080829243863829585  2620665939      NO   29695                 11   \n",
       "12  5729679535281970107  2854703012      US  393398                 12   \n",
       "13 -4324475583306591935   785658794      NO   41164                 13   \n",
       "14 -4324475583306591935   167789398      NO   29695                  2   \n",
       "15 -8296667206273764769  1385380445      NO   29492                  2   \n",
       "16 -4663943525943860871  1369861544      NO   29695                 10   \n",
       "17 -4324475583306591935  1933957922      ID   38778                 14   \n",
       "18 -4324475583306591935   783790079      NO  197475                 15   \n",
       "19  1211299018980019605   167792079      NO   29695                 16   \n",
       "\n",
       "    Browser Name and Version  OS Name and Version Device Type  \\\n",
       "0                          0                    0      mobile   \n",
       "1                          1                    1      mobile   \n",
       "2                          2                    2      mobile   \n",
       "3                          3                    1      mobile   \n",
       "4                          3                    3      mobile   \n",
       "5                          3                    1      mobile   \n",
       "6                          4                    4     desktop   \n",
       "7                          5                    5      mobile   \n",
       "8                          6                    6      mobile   \n",
       "9                          7                    7     desktop   \n",
       "10                         8                    7     desktop   \n",
       "11                         9                    7     desktop   \n",
       "12                        10                    1      mobile   \n",
       "13                        11                    8     desktop   \n",
       "14                         2                    2      mobile   \n",
       "15                         2                    2      mobile   \n",
       "16                         8                    7     desktop   \n",
       "17                         3                    0      mobile   \n",
       "18                        12                    9     desktop   \n",
       "19                         4                   10     desktop   \n",
       "\n",
       "    Login Successful  Is Attack IP  Is Account Takeover  Login Hour  \n",
       "0                  0             0                    0          12  \n",
       "1                  0             0                    0          12  \n",
       "2                  1             0                    0          12  \n",
       "3                  0             0                    0          12  \n",
       "4                  0             1                    0          12  \n",
       "5                  0             1                    0          12  \n",
       "6                  1             0                    0          12  \n",
       "7                  0             0                    0          12  \n",
       "8                  0             0                    0          12  \n",
       "9                  1             0                    0          12  \n",
       "10                 1             0                    0          12  \n",
       "11                 1             0                    0          12  \n",
       "12                 0             0                    0          12  \n",
       "13                 0             0                    0          12  \n",
       "14                 0             0                    0          12  \n",
       "15                 1             0                    0          12  \n",
       "16                 1             0                    0          12  \n",
       "17                 0             0                    0          12  \n",
       "18                 0             0                    0          12  \n",
       "19                 1             0                    0          12  "
      ],
      "text/html": [
       "<div>\n",
       "<style scoped>\n",
       "    .dataframe tbody tr th:only-of-type {\n",
       "        vertical-align: middle;\n",
       "    }\n",
       "\n",
       "    .dataframe tbody tr th {\n",
       "        vertical-align: top;\n",
       "    }\n",
       "\n",
       "    .dataframe thead th {\n",
       "        text-align: right;\n",
       "    }\n",
       "</style>\n",
       "<table border=\"1\" class=\"dataframe\">\n",
       "  <thead>\n",
       "    <tr style=\"text-align: right;\">\n",
       "      <th></th>\n",
       "      <th>User ID</th>\n",
       "      <th>IP Address</th>\n",
       "      <th>Country</th>\n",
       "      <th>ASN</th>\n",
       "      <th>User Agent String</th>\n",
       "      <th>Browser Name and Version</th>\n",
       "      <th>OS Name and Version</th>\n",
       "      <th>Device Type</th>\n",
       "      <th>Login Successful</th>\n",
       "      <th>Is Attack IP</th>\n",
       "      <th>Is Account Takeover</th>\n",
       "      <th>Login Hour</th>\n",
       "    </tr>\n",
       "  </thead>\n",
       "  <tbody>\n",
       "    <tr>\n",
       "      <th>0</th>\n",
       "      <td>-4324475583306591935</td>\n",
       "      <td>167788971</td>\n",
       "      <td>NO</td>\n",
       "      <td>29695</td>\n",
       "      <td>0</td>\n",
       "      <td>0</td>\n",
       "      <td>0</td>\n",
       "      <td>mobile</td>\n",
       "      <td>0</td>\n",
       "      <td>0</td>\n",
       "      <td>0</td>\n",
       "      <td>12</td>\n",
       "    </tr>\n",
       "    <tr>\n",
       "      <th>1</th>\n",
       "      <td>-4324475583306591935</td>\n",
       "      <td>3260534534</td>\n",
       "      <td>AU</td>\n",
       "      <td>60117</td>\n",
       "      <td>1</td>\n",
       "      <td>1</td>\n",
       "      <td>1</td>\n",
       "      <td>mobile</td>\n",
       "      <td>0</td>\n",
       "      <td>0</td>\n",
       "      <td>0</td>\n",
       "      <td>12</td>\n",
       "    </tr>\n",
       "    <tr>\n",
       "      <th>2</th>\n",
       "      <td>-3284137479262433373</td>\n",
       "      <td>1369935930</td>\n",
       "      <td>NO</td>\n",
       "      <td>29695</td>\n",
       "      <td>2</td>\n",
       "      <td>2</td>\n",
       "      <td>2</td>\n",
       "      <td>mobile</td>\n",
       "      <td>1</td>\n",
       "      <td>0</td>\n",
       "      <td>0</td>\n",
       "      <td>12</td>\n",
       "    </tr>\n",
       "    <tr>\n",
       "      <th>3</th>\n",
       "      <td>-4324475583306591935</td>\n",
       "      <td>2854702744</td>\n",
       "      <td>US</td>\n",
       "      <td>393398</td>\n",
       "      <td>3</td>\n",
       "      <td>3</td>\n",
       "      <td>1</td>\n",
       "      <td>mobile</td>\n",
       "      <td>0</td>\n",
       "      <td>0</td>\n",
       "      <td>0</td>\n",
       "      <td>12</td>\n",
       "    </tr>\n",
       "    <tr>\n",
       "      <th>4</th>\n",
       "      <td>-4618854071942621186</td>\n",
       "      <td>167772207</td>\n",
       "      <td>US</td>\n",
       "      <td>398986</td>\n",
       "      <td>4</td>\n",
       "      <td>3</td>\n",
       "      <td>3</td>\n",
       "      <td>mobile</td>\n",
       "      <td>0</td>\n",
       "      <td>1</td>\n",
       "      <td>0</td>\n",
       "      <td>12</td>\n",
       "    </tr>\n",
       "    <tr>\n",
       "      <th>5</th>\n",
       "      <td>-4324475583306591935</td>\n",
       "      <td>3521936254</td>\n",
       "      <td>US</td>\n",
       "      <td>393398</td>\n",
       "      <td>5</td>\n",
       "      <td>3</td>\n",
       "      <td>1</td>\n",
       "      <td>mobile</td>\n",
       "      <td>0</td>\n",
       "      <td>1</td>\n",
       "      <td>0</td>\n",
       "      <td>12</td>\n",
       "    </tr>\n",
       "    <tr>\n",
       "      <th>6</th>\n",
       "      <td>7246533443898239661</td>\n",
       "      <td>1355474134</td>\n",
       "      <td>NO</td>\n",
       "      <td>15659</td>\n",
       "      <td>6</td>\n",
       "      <td>4</td>\n",
       "      <td>4</td>\n",
       "      <td>desktop</td>\n",
       "      <td>1</td>\n",
       "      <td>0</td>\n",
       "      <td>0</td>\n",
       "      <td>12</td>\n",
       "    </tr>\n",
       "    <tr>\n",
       "      <th>7</th>\n",
       "      <td>-3243978724802435038</td>\n",
       "      <td>2854702769</td>\n",
       "      <td>US</td>\n",
       "      <td>393398</td>\n",
       "      <td>7</td>\n",
       "      <td>5</td>\n",
       "      <td>5</td>\n",
       "      <td>mobile</td>\n",
       "      <td>0</td>\n",
       "      <td>0</td>\n",
       "      <td>0</td>\n",
       "      <td>12</td>\n",
       "    </tr>\n",
       "    <tr>\n",
       "      <th>8</th>\n",
       "      <td>8076000552587369902</td>\n",
       "      <td>167787988</td>\n",
       "      <td>NO</td>\n",
       "      <td>29695</td>\n",
       "      <td>8</td>\n",
       "      <td>6</td>\n",
       "      <td>6</td>\n",
       "      <td>mobile</td>\n",
       "      <td>0</td>\n",
       "      <td>0</td>\n",
       "      <td>0</td>\n",
       "      <td>12</td>\n",
       "    </tr>\n",
       "    <tr>\n",
       "      <th>9</th>\n",
       "      <td>-3065936140549856249</td>\n",
       "      <td>1558015394</td>\n",
       "      <td>NO</td>\n",
       "      <td>29695</td>\n",
       "      <td>9</td>\n",
       "      <td>7</td>\n",
       "      <td>7</td>\n",
       "      <td>desktop</td>\n",
       "      <td>1</td>\n",
       "      <td>0</td>\n",
       "      <td>0</td>\n",
       "      <td>12</td>\n",
       "    </tr>\n",
       "    <tr>\n",
       "      <th>10</th>\n",
       "      <td>5932501938287412564</td>\n",
       "      <td>1412447623</td>\n",
       "      <td>NO</td>\n",
       "      <td>15659</td>\n",
       "      <td>10</td>\n",
       "      <td>8</td>\n",
       "      <td>7</td>\n",
       "      <td>desktop</td>\n",
       "      <td>1</td>\n",
       "      <td>0</td>\n",
       "      <td>0</td>\n",
       "      <td>12</td>\n",
       "    </tr>\n",
       "    <tr>\n",
       "      <th>11</th>\n",
       "      <td>-9080829243863829585</td>\n",
       "      <td>2620665939</td>\n",
       "      <td>NO</td>\n",
       "      <td>29695</td>\n",
       "      <td>11</td>\n",
       "      <td>9</td>\n",
       "      <td>7</td>\n",
       "      <td>desktop</td>\n",
       "      <td>1</td>\n",
       "      <td>0</td>\n",
       "      <td>0</td>\n",
       "      <td>12</td>\n",
       "    </tr>\n",
       "    <tr>\n",
       "      <th>12</th>\n",
       "      <td>5729679535281970107</td>\n",
       "      <td>2854703012</td>\n",
       "      <td>US</td>\n",
       "      <td>393398</td>\n",
       "      <td>12</td>\n",
       "      <td>10</td>\n",
       "      <td>1</td>\n",
       "      <td>mobile</td>\n",
       "      <td>0</td>\n",
       "      <td>0</td>\n",
       "      <td>0</td>\n",
       "      <td>12</td>\n",
       "    </tr>\n",
       "    <tr>\n",
       "      <th>13</th>\n",
       "      <td>-4324475583306591935</td>\n",
       "      <td>785658794</td>\n",
       "      <td>NO</td>\n",
       "      <td>41164</td>\n",
       "      <td>13</td>\n",
       "      <td>11</td>\n",
       "      <td>8</td>\n",
       "      <td>desktop</td>\n",
       "      <td>0</td>\n",
       "      <td>0</td>\n",
       "      <td>0</td>\n",
       "      <td>12</td>\n",
       "    </tr>\n",
       "    <tr>\n",
       "      <th>14</th>\n",
       "      <td>-4324475583306591935</td>\n",
       "      <td>167789398</td>\n",
       "      <td>NO</td>\n",
       "      <td>29695</td>\n",
       "      <td>2</td>\n",
       "      <td>2</td>\n",
       "      <td>2</td>\n",
       "      <td>mobile</td>\n",
       "      <td>0</td>\n",
       "      <td>0</td>\n",
       "      <td>0</td>\n",
       "      <td>12</td>\n",
       "    </tr>\n",
       "    <tr>\n",
       "      <th>15</th>\n",
       "      <td>-8296667206273764769</td>\n",
       "      <td>1385380445</td>\n",
       "      <td>NO</td>\n",
       "      <td>29492</td>\n",
       "      <td>2</td>\n",
       "      <td>2</td>\n",
       "      <td>2</td>\n",
       "      <td>mobile</td>\n",
       "      <td>1</td>\n",
       "      <td>0</td>\n",
       "      <td>0</td>\n",
       "      <td>12</td>\n",
       "    </tr>\n",
       "    <tr>\n",
       "      <th>16</th>\n",
       "      <td>-4663943525943860871</td>\n",
       "      <td>1369861544</td>\n",
       "      <td>NO</td>\n",
       "      <td>29695</td>\n",
       "      <td>10</td>\n",
       "      <td>8</td>\n",
       "      <td>7</td>\n",
       "      <td>desktop</td>\n",
       "      <td>1</td>\n",
       "      <td>0</td>\n",
       "      <td>0</td>\n",
       "      <td>12</td>\n",
       "    </tr>\n",
       "    <tr>\n",
       "      <th>17</th>\n",
       "      <td>-4324475583306591935</td>\n",
       "      <td>1933957922</td>\n",
       "      <td>ID</td>\n",
       "      <td>38778</td>\n",
       "      <td>14</td>\n",
       "      <td>3</td>\n",
       "      <td>0</td>\n",
       "      <td>mobile</td>\n",
       "      <td>0</td>\n",
       "      <td>0</td>\n",
       "      <td>0</td>\n",
       "      <td>12</td>\n",
       "    </tr>\n",
       "    <tr>\n",
       "      <th>18</th>\n",
       "      <td>-4324475583306591935</td>\n",
       "      <td>783790079</td>\n",
       "      <td>NO</td>\n",
       "      <td>197475</td>\n",
       "      <td>15</td>\n",
       "      <td>12</td>\n",
       "      <td>9</td>\n",
       "      <td>desktop</td>\n",
       "      <td>0</td>\n",
       "      <td>0</td>\n",
       "      <td>0</td>\n",
       "      <td>12</td>\n",
       "    </tr>\n",
       "    <tr>\n",
       "      <th>19</th>\n",
       "      <td>1211299018980019605</td>\n",
       "      <td>167792079</td>\n",
       "      <td>NO</td>\n",
       "      <td>29695</td>\n",
       "      <td>16</td>\n",
       "      <td>4</td>\n",
       "      <td>10</td>\n",
       "      <td>desktop</td>\n",
       "      <td>1</td>\n",
       "      <td>0</td>\n",
       "      <td>0</td>\n",
       "      <td>12</td>\n",
       "    </tr>\n",
       "  </tbody>\n",
       "</table>\n",
       "</div>"
      ]
     },
     "execution_count": 18,
     "metadata": {},
     "output_type": "execute_result"
    }
   ],
   "execution_count": 18
  },
  {
   "metadata": {
    "ExecuteTime": {
     "end_time": "2025-02-17T15:59:09.216222Z",
     "start_time": "2025-02-17T15:59:09.173348Z"
    }
   },
   "cell_type": "code",
   "source": [
    "account_takeover_rows = data[data['Is Account Takeover'] == 1]\n",
    "\n",
    "# Display or further process the filtered rows\n",
    "account_takeover_rows"
   ],
   "id": "5bb9d80126cfd264",
   "outputs": [
    {
     "data": {
      "text/plain": [
       "                      User ID  IP Address Country     ASN  User Agent String  \\\n",
       "82873     5519106287451092780   168034722      IT  503109               2611   \n",
       "82947    -7654599524478640403   168034722      IT  503109               2611   \n",
       "100085   -6380256063165146454   528683032      RO   56851              10118   \n",
       "202905    4130074439166519892  3114960900      IT  206801                 36   \n",
       "273968    -136955930917892295   167793933      NO  197475                 11   \n",
       "...                       ...         ...     ...     ...                ...   \n",
       "20623917  -249028206650900290  1541160943      RO  197357             324772   \n",
       "20700950 -1639909578889655226    95726278      RO  206801             174628   \n",
       "21266387 -4655135911852100550   168018399      BR  500106                  2   \n",
       "21497310 -1999335758853878070  3000358111      RO   31028             174628   \n",
       "21734204   832942564942319679    37267096      RO    3280               2611   \n",
       "\n",
       "          Browser Name and Version  OS Name and Version Device Type  \\\n",
       "82873                           36                    7     desktop   \n",
       "82947                           36                    7     desktop   \n",
       "100085                         180                   10     desktop   \n",
       "202905                          24                   18      mobile   \n",
       "273968                           9                    7     desktop   \n",
       "...                            ...                  ...         ...   \n",
       "20623917                      3292                    0      mobile   \n",
       "20700950                      2316                    7     desktop   \n",
       "21266387                         2                    2      mobile   \n",
       "21497310                      2316                    7     desktop   \n",
       "21734204                        36                    7     desktop   \n",
       "\n",
       "          Login Successful  Is Attack IP  Is Account Takeover  Login Hour  \n",
       "82873                    1             0                    1          13  \n",
       "82947                    1             0                    1          13  \n",
       "100085                   1             1                    1          17  \n",
       "202905                   1             0                    1           5  \n",
       "273968                   1             0                    1           1  \n",
       "...                    ...           ...                  ...         ...  \n",
       "20623917                 1             1                    1           8  \n",
       "20700950                 1             1                    1           7  \n",
       "21266387                 1             0                    1          20  \n",
       "21497310                 1             1                    1          18  \n",
       "21734204                 1             1                    1          23  \n",
       "\n",
       "[141 rows x 12 columns]"
      ],
      "text/html": [
       "<div>\n",
       "<style scoped>\n",
       "    .dataframe tbody tr th:only-of-type {\n",
       "        vertical-align: middle;\n",
       "    }\n",
       "\n",
       "    .dataframe tbody tr th {\n",
       "        vertical-align: top;\n",
       "    }\n",
       "\n",
       "    .dataframe thead th {\n",
       "        text-align: right;\n",
       "    }\n",
       "</style>\n",
       "<table border=\"1\" class=\"dataframe\">\n",
       "  <thead>\n",
       "    <tr style=\"text-align: right;\">\n",
       "      <th></th>\n",
       "      <th>User ID</th>\n",
       "      <th>IP Address</th>\n",
       "      <th>Country</th>\n",
       "      <th>ASN</th>\n",
       "      <th>User Agent String</th>\n",
       "      <th>Browser Name and Version</th>\n",
       "      <th>OS Name and Version</th>\n",
       "      <th>Device Type</th>\n",
       "      <th>Login Successful</th>\n",
       "      <th>Is Attack IP</th>\n",
       "      <th>Is Account Takeover</th>\n",
       "      <th>Login Hour</th>\n",
       "    </tr>\n",
       "  </thead>\n",
       "  <tbody>\n",
       "    <tr>\n",
       "      <th>82873</th>\n",
       "      <td>5519106287451092780</td>\n",
       "      <td>168034722</td>\n",
       "      <td>IT</td>\n",
       "      <td>503109</td>\n",
       "      <td>2611</td>\n",
       "      <td>36</td>\n",
       "      <td>7</td>\n",
       "      <td>desktop</td>\n",
       "      <td>1</td>\n",
       "      <td>0</td>\n",
       "      <td>1</td>\n",
       "      <td>13</td>\n",
       "    </tr>\n",
       "    <tr>\n",
       "      <th>82947</th>\n",
       "      <td>-7654599524478640403</td>\n",
       "      <td>168034722</td>\n",
       "      <td>IT</td>\n",
       "      <td>503109</td>\n",
       "      <td>2611</td>\n",
       "      <td>36</td>\n",
       "      <td>7</td>\n",
       "      <td>desktop</td>\n",
       "      <td>1</td>\n",
       "      <td>0</td>\n",
       "      <td>1</td>\n",
       "      <td>13</td>\n",
       "    </tr>\n",
       "    <tr>\n",
       "      <th>100085</th>\n",
       "      <td>-6380256063165146454</td>\n",
       "      <td>528683032</td>\n",
       "      <td>RO</td>\n",
       "      <td>56851</td>\n",
       "      <td>10118</td>\n",
       "      <td>180</td>\n",
       "      <td>10</td>\n",
       "      <td>desktop</td>\n",
       "      <td>1</td>\n",
       "      <td>1</td>\n",
       "      <td>1</td>\n",
       "      <td>17</td>\n",
       "    </tr>\n",
       "    <tr>\n",
       "      <th>202905</th>\n",
       "      <td>4130074439166519892</td>\n",
       "      <td>3114960900</td>\n",
       "      <td>IT</td>\n",
       "      <td>206801</td>\n",
       "      <td>36</td>\n",
       "      <td>24</td>\n",
       "      <td>18</td>\n",
       "      <td>mobile</td>\n",
       "      <td>1</td>\n",
       "      <td>0</td>\n",
       "      <td>1</td>\n",
       "      <td>5</td>\n",
       "    </tr>\n",
       "    <tr>\n",
       "      <th>273968</th>\n",
       "      <td>-136955930917892295</td>\n",
       "      <td>167793933</td>\n",
       "      <td>NO</td>\n",
       "      <td>197475</td>\n",
       "      <td>11</td>\n",
       "      <td>9</td>\n",
       "      <td>7</td>\n",
       "      <td>desktop</td>\n",
       "      <td>1</td>\n",
       "      <td>0</td>\n",
       "      <td>1</td>\n",
       "      <td>1</td>\n",
       "    </tr>\n",
       "    <tr>\n",
       "      <th>...</th>\n",
       "      <td>...</td>\n",
       "      <td>...</td>\n",
       "      <td>...</td>\n",
       "      <td>...</td>\n",
       "      <td>...</td>\n",
       "      <td>...</td>\n",
       "      <td>...</td>\n",
       "      <td>...</td>\n",
       "      <td>...</td>\n",
       "      <td>...</td>\n",
       "      <td>...</td>\n",
       "      <td>...</td>\n",
       "    </tr>\n",
       "    <tr>\n",
       "      <th>20623917</th>\n",
       "      <td>-249028206650900290</td>\n",
       "      <td>1541160943</td>\n",
       "      <td>RO</td>\n",
       "      <td>197357</td>\n",
       "      <td>324772</td>\n",
       "      <td>3292</td>\n",
       "      <td>0</td>\n",
       "      <td>mobile</td>\n",
       "      <td>1</td>\n",
       "      <td>1</td>\n",
       "      <td>1</td>\n",
       "      <td>8</td>\n",
       "    </tr>\n",
       "    <tr>\n",
       "      <th>20700950</th>\n",
       "      <td>-1639909578889655226</td>\n",
       "      <td>95726278</td>\n",
       "      <td>RO</td>\n",
       "      <td>206801</td>\n",
       "      <td>174628</td>\n",
       "      <td>2316</td>\n",
       "      <td>7</td>\n",
       "      <td>desktop</td>\n",
       "      <td>1</td>\n",
       "      <td>1</td>\n",
       "      <td>1</td>\n",
       "      <td>7</td>\n",
       "    </tr>\n",
       "    <tr>\n",
       "      <th>21266387</th>\n",
       "      <td>-4655135911852100550</td>\n",
       "      <td>168018399</td>\n",
       "      <td>BR</td>\n",
       "      <td>500106</td>\n",
       "      <td>2</td>\n",
       "      <td>2</td>\n",
       "      <td>2</td>\n",
       "      <td>mobile</td>\n",
       "      <td>1</td>\n",
       "      <td>0</td>\n",
       "      <td>1</td>\n",
       "      <td>20</td>\n",
       "    </tr>\n",
       "    <tr>\n",
       "      <th>21497310</th>\n",
       "      <td>-1999335758853878070</td>\n",
       "      <td>3000358111</td>\n",
       "      <td>RO</td>\n",
       "      <td>31028</td>\n",
       "      <td>174628</td>\n",
       "      <td>2316</td>\n",
       "      <td>7</td>\n",
       "      <td>desktop</td>\n",
       "      <td>1</td>\n",
       "      <td>1</td>\n",
       "      <td>1</td>\n",
       "      <td>18</td>\n",
       "    </tr>\n",
       "    <tr>\n",
       "      <th>21734204</th>\n",
       "      <td>832942564942319679</td>\n",
       "      <td>37267096</td>\n",
       "      <td>RO</td>\n",
       "      <td>3280</td>\n",
       "      <td>2611</td>\n",
       "      <td>36</td>\n",
       "      <td>7</td>\n",
       "      <td>desktop</td>\n",
       "      <td>1</td>\n",
       "      <td>1</td>\n",
       "      <td>1</td>\n",
       "      <td>23</td>\n",
       "    </tr>\n",
       "  </tbody>\n",
       "</table>\n",
       "<p>141 rows × 12 columns</p>\n",
       "</div>"
      ]
     },
     "execution_count": 19,
     "metadata": {},
     "output_type": "execute_result"
    }
   ],
   "execution_count": 19
  },
  {
   "metadata": {
    "ExecuteTime": {
     "end_time": "2025-02-17T15:59:24.864863Z",
     "start_time": "2025-02-17T15:59:24.862460Z"
    }
   },
   "cell_type": "code",
   "source": [
    "categorical_cols = ['Country', 'Device Type']\n",
    "numeric_cols = ['ASN', 'Login Hour', 'IP Address', 'User Agent String', 'Browser Name and Version', 'OS Name and Version']"
   ],
   "id": "76f8d47dec034436",
   "outputs": [],
   "execution_count": 20
  },
  {
   "metadata": {
    "ExecuteTime": {
     "end_time": "2025-02-17T15:59:55.225293Z",
     "start_time": "2025-02-17T15:59:55.008979Z"
    }
   },
   "cell_type": "code",
   "source": [
    "\"\"\"percentage wise calculations\n",
    "\"\"\"\n",
    "percentage1=data['Is Attack IP'].value_counts(normalize=True)*100\n",
    "percentage2=data['Is Account Takeover'].value_counts(normalize=True)*100\n",
    "percentage3=data['Login Successful'].value_counts(normalize=True)*100"
   ],
   "id": "57b6605989aa230",
   "outputs": [],
   "execution_count": 21
  },
  {
   "metadata": {
    "ExecuteTime": {
     "end_time": "2025-02-17T16:00:03.929052Z",
     "start_time": "2025-02-17T16:00:03.775430Z"
    }
   },
   "cell_type": "code",
   "source": [
    "classlabels=[\"No Attack\",\"Attacked\"]\n",
    "plt.figure(figsize=(12,7))\n",
    "plt.pie(percentage1,labels=classlabels,autopct='%1.3f%%')\n",
    "plt.title(\"Attack IP\")\n",
    "plt.show()"
   ],
   "id": "d2886097a8fcb5dd",
   "outputs": [
    {
     "data": {
      "text/plain": [
       "<Figure size 1200x700 with 1 Axes>"
      ],
      "image/png": "[encoded data removed]"
     },
     "metadata": {},
     "output_type": "display_data"
    }
   ],
   "execution_count": 22
  },
  {
   "metadata": {
    "ExecuteTime": {
     "end_time": "2025-02-17T16:01:12.432654Z",
     "start_time": "2025-02-17T16:01:12.388683Z"
    }
   },
   "cell_type": "code",
   "source": [
    "classlabels=[\"Not Takeover\", \"Takeover\"]\n",
    "plt.figure(figsize=(12,7))\n",
    "plt.pie(percentage2,labels=classlabels,autopct='%1.5f%%')\n",
    "plt.title(\"Is Account Takeover\")\n",
    "plt.show()"
   ],
   "id": "9101f5c86807e92b",
   "outputs": [
    {
     "data": {
      "text/plain": [
       "<Figure size 1200x700 with 1 Axes>"
      ],
      "image/png": "[encoded data removed]"
     },
     "metadata": {},
     "output_type": "display_data"
    }
   ],
   "execution_count": 23
  },
  {
   "metadata": {
    "ExecuteTime": {
     "end_time": "2025-02-17T16:01:28.547307Z",
     "start_time": "2025-02-17T16:01:28.520804Z"
    }
   },
   "cell_type": "code",
   "source": [
    "classlabels=[\"Success\",\"Unsuccess\"]\n",
    "plt.figure(figsize=(12,7))\n",
    "plt.pie(percentage3,labels=classlabels,autopct='%1.3f%%')\n",
    "plt.title(\"Login Success\")\n",
    "plt.show()"
   ],
   "id": "672d14762787475",
   "outputs": [
    {
     "data": {
      "text/plain": [
       "<Figure size 1200x700 with 1 Axes>"
      ],
      "image/png": "[encoded data removed]"
     },
     "metadata": {},
     "output_type": "display_data"
    }
   ],
   "execution_count": 24
  },
  {
   "metadata": {
    "ExecuteTime": {
     "end_time": "2025-02-17T16:03:16.505268Z",
     "start_time": "2025-02-17T16:03:02.072204Z"
    }
   },
   "cell_type": "code",
   "source": [
    "# Splitting the dataset\n",
    "features = data.drop(['Is Attack IP', 'Is Account Takeover'], axis=1)\n",
    "labels = data['Is Account Takeover']\n",
    "\n",
    "X_train, X_test, y_train, y_test = train_test_split(features, labels, test_size=0.2, random_state=42,stratify=labels)"
   ],
   "id": "6675eaf56c2daa85",
   "outputs": [],
   "execution_count": 25
  },
  {
   "metadata": {
    "ExecuteTime": {
     "end_time": "2025-02-17T16:03:21.816630Z",
     "start_time": "2025-02-17T16:03:21.813008Z"
    }
   },
   "cell_type": "code",
   "source": [
    "preprocessor = ColumnTransformer(\n",
    "    transformers=[\n",
    "        ('num', StandardScaler(), numeric_cols),\n",
    "        ('cat', OneHotEncoder(), categorical_cols)\n",
    "    ])\n",
    "\n",
    "# Classifiers\n",
    "classifiers = {\n",
    "    'logistic_regression': LogisticRegression(max_iter=1000),\n",
    "    'decision_tree': DecisionTreeClassifier(),\n",
    "    'svm': SVC(probability=True),\n",
    "    'random_forest': RandomForestClassifier(),\n",
    "    'Adaboost' : AdaBoostClassifier(),\n",
    "    'Extra' :  ExtraTreesClassifier(),\n",
    "    'lgbm' : LGBMClassifier(),\n",
    "    'XGB': XGBClassifier()\n",
    "}\n",
    "\n",
    "# A function to choose classifiers\n",
    "def make_pipeline(classifier_key):\n",
    "    if classifier_key in classifiers:\n",
    "        clf = Pipeline(steps=[\n",
    "            ('preprocessor', preprocessor),\n",
    "            ('classifier', classifiers[classifier_key])\n",
    "        ])\n",
    "        return clf\n",
    "    else:\n",
    "        raise ValueError(f\"Classifier {classifier_key} is not defined\")"
   ],
   "id": "8d1dfeabf4302d73",
   "outputs": [],
   "execution_count": 26
  },
  {
   "metadata": {
    "ExecuteTime": {
     "end_time": "2025-02-17T16:03:33.539055Z",
     "start_time": "2025-02-17T16:03:33.536526Z"
    }
   },
   "cell_type": "code",
   "source": "from sklearn.metrics import ConfusionMatrixDisplay",
   "id": "4aa858f67d33ec92",
   "outputs": [],
   "execution_count": 27
  },
  {
   "metadata": {
    "ExecuteTime": {
     "end_time": "2025-02-17T16:04:12.198417Z",
     "start_time": "2025-02-17T16:03:41.261206Z"
    }
   },
   "cell_type": "code",
   "source": [
    "classifier_key = 'logistic_regression'\n",
    "pipeline = make_pipeline(classifier_key)\n",
    "pipeline.fit(X_train, y_train)\n",
    "\n",
    "# Evaluation\n",
    "lrpredictions = pipeline.predict(X_test)\n",
    "probs = pipeline.predict_proba(X_test)[:, 1]\n",
    "auc_score = roc_auc_score(y_test, probs)\n",
    "\n",
    "print(f\"AUC Score: {auc_score}\")"
   ],
   "id": "58517ebf3ad3a701",
   "outputs": [
    {
     "name": "stdout",
     "output_type": "stream",
     "text": [
      "AUC Score: 0.867026585443994\n"
     ]
    }
   ],
   "execution_count": 28
  },
  {
   "metadata": {
    "ExecuteTime": {
     "end_time": "2025-02-17T16:04:15.623305Z",
     "start_time": "2025-02-17T16:04:15.621110Z"
    }
   },
   "cell_type": "code",
   "source": [
    "from sklearn.metrics import classification_report\n",
    "from sklearn.metrics import accuracy_score"
   ],
   "id": "d8aeb41724f176e2",
   "outputs": [],
   "execution_count": 29
  },
  {
   "metadata": {
    "ExecuteTime": {
     "end_time": "2025-02-17T16:04:19.858245Z",
     "start_time": "2025-02-17T16:04:18.427724Z"
    }
   },
   "cell_type": "code",
   "source": [
    "Score = accuracy_score(y_test,lrpredictions)\n",
    "Classification_Report = classification_report(y_test,lrpredictions)\n",
    "\n",
    "print(\"Logistic Regression\")\n",
    "print (\"Accuracy Score value: {:.4f}\".format(Score))\n",
    "print (Classification_Report)"
   ],
   "id": "9b42b1441474d91e",
   "outputs": [
    {
     "name": "stderr",
     "output_type": "stream",
     "text": [
      "/Users/kaushalkento/Desktop/GroupProject./RealTimeProject/CaptchaRealTimeProject/.venv/lib/python3.12/site-packages/sklearn/metrics/_classification.py:1565: UndefinedMetricWarning: Precision is ill-defined and being set to 0.0 in labels with no predicted samples. Use `zero_division` parameter to control this behavior.\n",
      "  _warn_prf(average, modifier, f\"{metric.capitalize()} is\", len(result))\n",
      "/Users/kaushalkento/Desktop/GroupProject./RealTimeProject/CaptchaRealTimeProject/.venv/lib/python3.12/site-packages/sklearn/metrics/_classification.py:1565: UndefinedMetricWarning: Precision is ill-defined and being set to 0.0 in labels with no predicted samples. Use `zero_division` parameter to control this behavior.\n",
      "  _warn_prf(average, modifier, f\"{metric.capitalize()} is\", len(result))\n"
     ]
    },
    {
     "name": "stdout",
     "output_type": "stream",
     "text": [
      "Logistic Regression\n",
      "Accuracy Score value: 1.0000\n",
      "              precision    recall  f1-score   support\n",
      "\n",
      "           0       1.00      1.00      1.00   6253825\n",
      "           1       0.00      0.00      0.00        28\n",
      "\n",
      "    accuracy                           1.00   6253853\n",
      "   macro avg       0.50      0.50      0.50   6253853\n",
      "weighted avg       1.00      1.00      1.00   6253853\n",
      "\n"
     ]
    },
    {
     "name": "stderr",
     "output_type": "stream",
     "text": [
      "/Users/kaushalkento/Desktop/GroupProject./RealTimeProject/CaptchaRealTimeProject/.venv/lib/python3.12/site-packages/sklearn/metrics/_classification.py:1565: UndefinedMetricWarning: Precision is ill-defined and being set to 0.0 in labels with no predicted samples. Use `zero_division` parameter to control this behavior.\n",
      "  _warn_prf(average, modifier, f\"{metric.capitalize()} is\", len(result))\n"
     ]
    }
   ],
   "execution_count": 30
  },
  {
   "metadata": {
    "ExecuteTime": {
     "end_time": "2025-02-17T16:04:31.538769Z",
     "start_time": "2025-02-17T16:04:28.624124Z"
    }
   },
   "cell_type": "code",
   "source": [
    "Logistic_Regression_Confusion_Matrix = ConfusionMatrixDisplay.from_estimator(pipeline, X_test, y_test)\n",
    "Logistic_Regression_Confusion_Matrix\n",
    "plt.show()"
   ],
   "id": "efef9baf9c4bbc23",
   "outputs": [
    {
     "data": {
      "text/plain": [
       "<Figure size 640x480 with 2 Axes>"
      ],
      "image/png": "[encoded data removed]"
     },
     "metadata": {},
     "output_type": "display_data"
    }
   ],
   "execution_count": 31
  },
  {
   "metadata": {
    "ExecuteTime": {
     "end_time": "2025-02-17T16:07:17.372858Z",
     "start_time": "2025-02-17T16:04:40.100919Z"
    }
   },
   "cell_type": "code",
   "source": [
    "classifier_key = 'decision_tree'\n",
    "pipeline = make_pipeline(classifier_key)\n",
    "pipeline.fit(X_train, y_train)\n",
    "\n",
    "# Evaluation\n",
    "dtpredictions = pipeline.predict(X_test)\n",
    "probs = pipeline.predict_proba(X_test)[:, 1]\n",
    "auc_score = roc_auc_score(y_test, probs)\n",
    "\n",
    "print(f\"AUC Score: {auc_score}\")"
   ],
   "id": "e3bf2a988bc19033",
   "outputs": [
    {
     "name": "stdout",
     "output_type": "stream",
     "text": [
      "AUC Score: 0.6249973444823197\n"
     ]
    }
   ],
   "execution_count": 32
  },
  {
   "metadata": {
    "ExecuteTime": {
     "end_time": "2025-02-17T16:07:33.078538Z",
     "start_time": "2025-02-17T16:07:31.708611Z"
    }
   },
   "cell_type": "code",
   "source": [
    "Score = accuracy_score(y_test,dtpredictions)\n",
    "Classification_Report = classification_report(y_test,dtpredictions)\n",
    "\n",
    "print(\"Decision Tree\")\n",
    "print (\"Accuracy Score value: {:.8f}\".format(Score))\n",
    "print (Classification_Report)"
   ],
   "id": "7dbeaa19a8b20a95",
   "outputs": [
    {
     "name": "stdout",
     "output_type": "stream",
     "text": [
      "Decision Tree\n",
      "Accuracy Score value: 0.99999344\n",
      "              precision    recall  f1-score   support\n",
      "\n",
      "           0       1.00      1.00      1.00   6253825\n",
      "           1       0.22      0.18      0.20        28\n",
      "\n",
      "    accuracy                           1.00   6253853\n",
      "   macro avg       0.61      0.59      0.60   6253853\n",
      "weighted avg       1.00      1.00      1.00   6253853\n",
      "\n"
     ]
    }
   ],
   "execution_count": 33
  },
  {
   "metadata": {
    "ExecuteTime": {
     "end_time": "2025-02-17T16:07:38.201964Z",
     "start_time": "2025-02-17T16:07:35.137579Z"
    }
   },
   "cell_type": "code",
   "source": [
    "Logistic_Regression_Confusion_Matrix = ConfusionMatrixDisplay.from_estimator(pipeline, X_test, y_test)\n",
    "Logistic_Regression_Confusion_Matrix\n",
    "plt.show()"
   ],
   "id": "6c1bb3b055e78756",
   "outputs": [
    {
     "data": {
      "text/plain": [
       "<Figure size 640x480 with 2 Axes>"
      ],
      "image/png": "[encoded data removed]"
     },
     "metadata": {},
     "output_type": "display_data"
    }
   ],
   "execution_count": 34
  },
  {
   "metadata": {
    "ExecuteTime": {
     "end_time": "2025-02-17T16:48:05.314370Z",
     "start_time": "2025-02-17T16:25:34.701302Z"
    }
   },
   "cell_type": "code",
   "source": [
    "classifier_key = 'random_forest'\n",
    "pipeline = make_pipeline(classifier_key)\n",
    "pipeline.fit(X_train, y_train)\n",
    "\n",
    "# Evaluation\n",
    "predictions = pipeline.predict(X_test)\n",
    "probs = pipeline.predict_proba(X_test)[:, 1]\n",
    "auc_score = roc_auc_score(y_test, probs)\n",
    "print(f\"AUC Score: {auc_score}\")"
   ],
   "id": "6cbe3eb6e5478d82",
   "outputs": [
    {
     "name": "stdout",
     "output_type": "stream",
     "text": [
      "AUC Score: 0.8571237317047682\n"
     ]
    }
   ],
   "execution_count": 36
  },
  {
   "metadata": {
    "ExecuteTime": {
     "end_time": "2025-02-17T16:48:28.441539Z",
     "start_time": "2025-02-17T16:48:27.073281Z"
    }
   },
   "cell_type": "code",
   "source": [
    "Score = accuracy_score(y_test,predictions)\n",
    "Classification_Report = classification_report(y_test,predictions)\n",
    "\n",
    "print(\"Random Forest\")\n",
    "print (\"Accuracy Score value: {:.8f}\".format(Score))\n",
    "print (Classification_Report)"
   ],
   "id": "7bba2d1f67fcb068",
   "outputs": [
    {
     "name": "stdout",
     "output_type": "stream",
     "text": [
      "Random Forest\n",
      "Accuracy Score value: 0.99999488\n",
      "              precision    recall  f1-score   support\n",
      "\n",
      "           0       1.00      1.00      1.00   6253825\n",
      "           1       0.33      0.14      0.20        28\n",
      "\n",
      "    accuracy                           1.00   6253853\n",
      "   macro avg       0.67      0.57      0.60   6253853\n",
      "weighted avg       1.00      1.00      1.00   6253853\n",
      "\n"
     ]
    }
   ],
   "execution_count": 37
  },
  {
   "metadata": {
    "ExecuteTime": {
     "end_time": "2025-02-17T16:49:00.257844Z",
     "start_time": "2025-02-17T16:48:31.529958Z"
    }
   },
   "cell_type": "code",
   "source": [
    "Logistic_Regression_Confusion_Matrix = ConfusionMatrixDisplay.from_estimator(pipeline, X_test, y_test)\n",
    "Logistic_Regression_Confusion_Matrix\n",
    "plt.show()"
   ],
   "id": "62f53f05266ea8dc",
   "outputs": [
    {
     "data": {
      "text/plain": [
       "<Figure size 640x480 with 2 Axes>"
      ],
      "image/png": "[encoded data removed]"
     },
     "metadata": {},
     "output_type": "display_data"
    }
   ],
   "execution_count": 38
  },
  {
   "metadata": {
    "ExecuteTime": {
     "end_time": "2025-02-17T16:49:13.940264Z",
     "start_time": "2025-02-17T16:49:13.937976Z"
    }
   },
   "cell_type": "code",
   "source": "from sklearn.metrics import ConfusionMatrixDisplay",
   "id": "b70289ef3a33ecad",
   "outputs": [],
   "execution_count": 39
  },
  {
   "metadata": {
    "ExecuteTime": {
     "end_time": "2025-02-17T17:00:59.445515Z",
     "start_time": "2025-02-17T16:49:15.383282Z"
    }
   },
   "cell_type": "code",
   "source": [
    "classifier_key = 'Adaboost'\n",
    "pipeline = make_pipeline(classifier_key)\n",
    "pipeline.fit(X_train, y_train)\n",
    "\n",
    "# Evaluation\n",
    "abpredictions = pipeline.predict(X_test)\n",
    "probs = pipeline.predict_proba(X_test)[:, 1]\n",
    "auc_score = roc_auc_score(y_test, probs)\n",
    "\n",
    "print(f\"AUC Score: {auc_score}\")"
   ],
   "id": "4885e640b4fdfa2f",
   "outputs": [
    {
     "name": "stdout",
     "output_type": "stream",
     "text": [
      "AUC Score: 0.978833605262151\n"
     ]
    }
   ],
   "execution_count": 40
  },
  {
   "metadata": {
    "ExecuteTime": {
     "end_time": "2025-02-17T17:03:18.235533Z",
     "start_time": "2025-02-17T17:03:16.886736Z"
    }
   },
   "cell_type": "code",
   "source": [
    "Score = accuracy_score(y_test,abpredictions)\n",
    "Classification_Report = classification_report(y_test,abpredictions)\n",
    "\n",
    "print(\"Ada Boost\")\n",
    "print (\"Accuracy Score value: {:.8f}\".format(Score))\n",
    "print (Classification_Report)"
   ],
   "id": "50c95d5f52190a12",
   "outputs": [
    {
     "name": "stderr",
     "output_type": "stream",
     "text": [
      "/Users/kaushalkento/Desktop/GroupProject./RealTimeProject/CaptchaRealTimeProject/.venv/lib/python3.12/site-packages/sklearn/metrics/_classification.py:1565: UndefinedMetricWarning: Precision is ill-defined and being set to 0.0 in labels with no predicted samples. Use `zero_division` parameter to control this behavior.\n",
      "  _warn_prf(average, modifier, f\"{metric.capitalize()} is\", len(result))\n",
      "/Users/kaushalkento/Desktop/GroupProject./RealTimeProject/CaptchaRealTimeProject/.venv/lib/python3.12/site-packages/sklearn/metrics/_classification.py:1565: UndefinedMetricWarning: Precision is ill-defined and being set to 0.0 in labels with no predicted samples. Use `zero_division` parameter to control this behavior.\n",
      "  _warn_prf(average, modifier, f\"{metric.capitalize()} is\", len(result))\n"
     ]
    },
    {
     "name": "stdout",
     "output_type": "stream",
     "text": [
      "Ada Boost\n",
      "Accuracy Score value: 0.99999552\n",
      "              precision    recall  f1-score   support\n",
      "\n",
      "           0       1.00      1.00      1.00   6253825\n",
      "           1       0.00      0.00      0.00        28\n",
      "\n",
      "    accuracy                           1.00   6253853\n",
      "   macro avg       0.50      0.50      0.50   6253853\n",
      "weighted avg       1.00      1.00      1.00   6253853\n",
      "\n"
     ]
    },
    {
     "name": "stderr",
     "output_type": "stream",
     "text": [
      "/Users/kaushalkento/Desktop/GroupProject./RealTimeProject/CaptchaRealTimeProject/.venv/lib/python3.12/site-packages/sklearn/metrics/_classification.py:1565: UndefinedMetricWarning: Precision is ill-defined and being set to 0.0 in labels with no predicted samples. Use `zero_division` parameter to control this behavior.\n",
      "  _warn_prf(average, modifier, f\"{metric.capitalize()} is\", len(result))\n"
     ]
    }
   ],
   "execution_count": 41
  },
  {
   "metadata": {
    "ExecuteTime": {
     "end_time": "2025-02-17T17:03:35.709114Z",
     "start_time": "2025-02-17T17:03:21.313994Z"
    }
   },
   "cell_type": "code",
   "source": [
    "Logistic_Regression_Confusion_Matrix = ConfusionMatrixDisplay.from_estimator(pipeline, X_test, y_test)\n",
    "Logistic_Regression_Confusion_Matrix\n",
    "plt.show()"
   ],
   "id": "37af908588ee82ff",
   "outputs": [
    {
     "data": {
      "text/plain": [
       "<Figure size 640x480 with 2 Axes>"
      ],
      "image/png": "[encoded data removed]"
     },
     "metadata": {},
     "output_type": "display_data"
    }
   ],
   "execution_count": 42
  },
  {
   "metadata": {
    "ExecuteTime": {
     "end_time": "2025-02-17T17:04:45.660519Z",
     "start_time": "2025-02-17T17:03:47.990474Z"
    }
   },
   "cell_type": "code",
   "source": [
    "classifier_key = 'lgbm'\n",
    "pipeline = make_pipeline(classifier_key)\n",
    "pipeline.fit(X_train, y_train)\n",
    "\n",
    "# Evaluation\n",
    "lgbmpredictions = pipeline.predict(X_test)\n",
    "probs = pipeline.predict_proba(X_test)[:, 1]\n",
    "auc_score = roc_auc_score(y_test, probs)\n",
    "\n",
    "print(f\"AUC Score: {auc_score}\")"
   ],
   "id": "713e70ae7ebd94a",
   "outputs": [
    {
     "name": "stderr",
     "output_type": "stream",
     "text": [
      "/Users/kaushalkento/Desktop/GroupProject./RealTimeProject/CaptchaRealTimeProject/.venv/lib/python3.12/site-packages/sklearn/utils/deprecation.py:151: FutureWarning: 'force_all_finite' was renamed to 'ensure_all_finite' in 1.6 and will be removed in 1.8.\n",
      "  warnings.warn(\n"
     ]
    },
    {
     "name": "stdout",
     "output_type": "stream",
     "text": [
      "[LightGBM] [Info] Number of positive: 113, number of negative: 25015298\n",
      "[LightGBM] [Info] Auto-choosing row-wise multi-threading, the overhead of testing was 0.107935 seconds.\n",
      "You can set `force_row_wise=true` to remove the overhead.\n",
      "And if memory is not enough, you can set `force_col_wise=true`.\n",
      "[LightGBM] [Info] Total Bins 1624\n",
      "[LightGBM] [Info] Number of data points in the train set: 25015411, number of used features: 199\n",
      "[LightGBM] [Info] [binary:BoostFromScore]: pavg=0.000005 -> initscore=-12.307610\n",
      "[LightGBM] [Info] Start training from score -12.307610\n"
     ]
    },
    {
     "name": "stderr",
     "output_type": "stream",
     "text": [
      "/Users/kaushalkento/Desktop/GroupProject./RealTimeProject/CaptchaRealTimeProject/.venv/lib/python3.12/site-packages/sklearn/utils/deprecation.py:151: FutureWarning: 'force_all_finite' was renamed to 'ensure_all_finite' in 1.6 and will be removed in 1.8.\n",
      "  warnings.warn(\n",
      "/Users/kaushalkento/Desktop/GroupProject./RealTimeProject/CaptchaRealTimeProject/.venv/lib/python3.12/site-packages/sklearn/utils/deprecation.py:151: FutureWarning: 'force_all_finite' was renamed to 'ensure_all_finite' in 1.6 and will be removed in 1.8.\n",
      "  warnings.warn(\n"
     ]
    },
    {
     "name": "stdout",
     "output_type": "stream",
     "text": [
      "AUC Score: 0.49565553881024815\n"
     ]
    }
   ],
   "execution_count": 43
  },
  {
   "metadata": {
    "ExecuteTime": {
     "end_time": "2025-02-17T17:05:05.731858Z",
     "start_time": "2025-02-17T17:05:04.282275Z"
    }
   },
   "cell_type": "code",
   "source": [
    "Score = accuracy_score(y_test,lgbmpredictions)\n",
    "Classification_Report = classification_report(y_test,lgbmpredictions)\n",
    "\n",
    "print(\"LGBM\")\n",
    "print (\"Accuracy Score value: {:.8f}\".format(Score))\n",
    "print (Classification_Report)"
   ],
   "id": "cdd92129ecfe59f5",
   "outputs": [
    {
     "name": "stdout",
     "output_type": "stream",
     "text": [
      "LGBM\n",
      "Accuracy Score value: 0.99997729\n",
      "              precision    recall  f1-score   support\n",
      "\n",
      "           0       1.00      1.00      1.00   6253825\n",
      "           1       0.00      0.00      0.00        28\n",
      "\n",
      "    accuracy                           1.00   6253853\n",
      "   macro avg       0.50      0.50      0.50   6253853\n",
      "weighted avg       1.00      1.00      1.00   6253853\n",
      "\n"
     ]
    }
   ],
   "execution_count": 44
  },
  {
   "metadata": {
    "ExecuteTime": {
     "end_time": "2025-02-17T17:05:19.898336Z",
     "start_time": "2025-02-17T17:05:11.240988Z"
    }
   },
   "cell_type": "code",
   "source": [
    "Logistic_Regression_Confusion_Matrix = ConfusionMatrixDisplay.from_estimator(pipeline, X_test, y_test)\n",
    "Logistic_Regression_Confusion_Matrix\n",
    "plt.show()"
   ],
   "id": "f05511e00cb989a",
   "outputs": [
    {
     "name": "stderr",
     "output_type": "stream",
     "text": [
      "/Users/kaushalkento/Desktop/GroupProject./RealTimeProject/CaptchaRealTimeProject/.venv/lib/python3.12/site-packages/sklearn/utils/deprecation.py:151: FutureWarning: 'force_all_finite' was renamed to 'ensure_all_finite' in 1.6 and will be removed in 1.8.\n",
      "  warnings.warn(\n"
     ]
    },
    {
     "data": {
      "text/plain": [
       "<Figure size 640x480 with 2 Axes>"
      ],
      "image/png": "[encoded data removed]"
     },
     "metadata": {},
     "output_type": "display_data"
    }
   ],
   "execution_count": 45
  },
  {
   "metadata": {
    "ExecuteTime": {
     "end_time": "2025-02-17T17:08:00.881397Z",
     "start_time": "2025-02-17T17:06:46.939853Z"
    }
   },
   "cell_type": "code",
   "source": [
    "classifier_key = 'XGB'\n",
    "pipeline = make_pipeline(classifier_key)\n",
    "pipeline.fit(X_train, y_train)\n",
    "\n",
    "# Evaluation\n",
    "xgbpredictions = pipeline.predict(X_test)\n",
    "probs = pipeline.predict_proba(X_test)[:, 1]\n",
    "auc_score = roc_auc_score(y_test, probs)\n",
    "\n",
    "print(f\"AUC Score: {auc_score}\")"
   ],
   "id": "1d9d103209553920",
   "outputs": [
    {
     "name": "stdout",
     "output_type": "stream",
     "text": [
      "AUC Score: 0.9847150486759245\n"
     ]
    }
   ],
   "execution_count": 46
  },
  {
   "metadata": {
    "ExecuteTime": {
     "end_time": "2025-02-17T17:09:51.334705Z",
     "start_time": "2025-02-17T17:09:49.994089Z"
    }
   },
   "cell_type": "code",
   "source": [
    "Score = accuracy_score(y_test,xgbpredictions)\n",
    "Classification_Report = classification_report(y_test,xgbpredictions)\n",
    "\n",
    "print(\"LGBM\")\n",
    "print (\"Accuracy Score value: {:.8f}\".format(Score))\n",
    "print (Classification_Report)"
   ],
   "id": "5e9ea3ee9c8bfdab",
   "outputs": [
    {
     "name": "stdout",
     "output_type": "stream",
     "text": [
      "LGBM\n",
      "Accuracy Score value: 0.99999536\n",
      "              precision    recall  f1-score   support\n",
      "\n",
      "           0       1.00      1.00      1.00   6253825\n",
      "           1       0.33      0.04      0.06        28\n",
      "\n",
      "    accuracy                           1.00   6253853\n",
      "   macro avg       0.67      0.52      0.53   6253853\n",
      "weighted avg       1.00      1.00      1.00   6253853\n",
      "\n"
     ]
    }
   ],
   "execution_count": 47
  },
  {
   "metadata": {
    "ExecuteTime": {
     "end_time": "2025-02-17T17:10:00.501757Z",
     "start_time": "2025-02-17T17:09:54.102696Z"
    }
   },
   "cell_type": "code",
   "source": [
    "Logistic_Regression_Confusion_Matrix = ConfusionMatrixDisplay.from_estimator(pipeline, X_test, y_test)\n",
    "Logistic_Regression_Confusion_Matrix\n",
    "plt.show()"
   ],
   "id": "90bf49937f00c497",
   "outputs": [
    {
     "data": {
      "text/plain": [
       "<Figure size 640x480 with 2 Axes>"
      ],
      "image/png": "[encoded data removed]"
     },
     "metadata": {},
     "output_type": "display_data"
    }
   ],
   "execution_count": 48
  },
  {
   "metadata": {},
   "cell_type": "code",
   "outputs": [],
   "execution_count": null,
   "source": "",
   "id": "d2252538b7ee96b4"
  }
 ],
 "metadata": {
  "kernelspec": {
   "display_name": "Python 3",
   "language": "python",
   "name": "python3"
  },
  "language_info": {
   "codemirror_mode": {
    "name": "ipython",
    "version": 2
   },
   "file_extension": ".py",
   "mimetype": "text/x-python",
   "name": "python",
   "nbconvert_exporter": "python",
   "pygments_lexer": "ipython2",
   "version": "2.7.6"
  }
 },
 "nbformat": 4,
 "nbformat_minor": 5
}
